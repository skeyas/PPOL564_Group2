{
 "cells": [
  {
   "cell_type": "code",
   "execution_count": 10,
   "id": "32dcc61f",
   "metadata": {},
   "outputs": [],
   "source": [
    "import config\n",
    "import requests\n",
    "import json\n",
    "\n",
    "import pandas as pd\n",
    "import numpy as np\n",
    "import geopandas as gpd\n",
    "import matplotlib.pyplot as plt\n",
    "\n",
    "from shapely.geometry import Point"
   ]
  },
  {
   "cell_type": "code",
   "execution_count": 11,
   "id": "28006689",
   "metadata": {},
   "outputs": [],
   "source": [
    "def string_to_tuple(string):\n",
    "    string = string[1:-1]\n",
    "    return tuple(map(np.float64, string.split(', ')))"
   ]
  },
  {
   "cell_type": "code",
   "execution_count": 12,
   "id": "aa34c1bc",
   "metadata": {},
   "outputs": [
    {
     "name": "stderr",
     "output_type": "stream",
     "text": [
      "C:\\Users\\keyasengupta\\AppData\\Local\\Temp\\ipykernel_13724\\3353970698.py:1: DtypeWarning: Columns (15) have mixed types. Specify dtype option on import or set low_memory=False.\n",
      "  tri_2019 = pd.read_csv(\"../input/tri_2019_us.csv\")\n"
     ]
    }
   ],
   "source": [
    "tri_2019 = pd.read_csv(\"../input/tri_2019_us.csv\")\n",
    "us_boundary = gpd.read_file(\"../input/s_22mr22.shp\")"
   ]
  },
  {
   "cell_type": "code",
   "execution_count": 13,
   "id": "702c4d76",
   "metadata": {},
   "outputs": [],
   "source": [
    "tri_2019_subset = tri_2019[~tri_2019[\"8. ST\"].isin([\"MP\", \"PR\", \"GU\", \"AS\", \"VI\", \"AK\", \"HI\"])]\n",
    "tri_2019_subset = tri_2019_subset[(tri_2019_subset['48. 5.2 - STACK AIR'] > 0) | tri_2019_subset[\"47. 5.1 - FUGITIVE AIR\"] > 0]"
   ]
  },
  {
   "cell_type": "code",
   "execution_count": 14,
   "id": "c457fc4b",
   "metadata": {},
   "outputs": [],
   "source": [
    "tri_2019_subset = tri_2019_subset[(tri_2019_subset['48. 5.2 - STACK AIR'] > tri_2019_subset['48. 5.2 - STACK AIR'].quantile(0.90)) | (tri_2019_subset[\"47. 5.1 - FUGITIVE AIR\"] > tri_2019_subset['47. 5.1 - FUGITIVE AIR'].quantile(0.90))]\n",
    "tri_2019_subset[\"geocoded\"] = [(tri_2019_subset.iloc[a]['13. LONGITUDE'], tri_2019_subset.iloc[a]['12. LATITUDE']) \n",
    "                      for a in range(len(tri_2019_subset))]"
   ]
  },
  {
   "cell_type": "code",
   "execution_count": 33,
   "id": "c4fa003a",
   "metadata": {},
   "outputs": [],
   "source": [
    "#https://soda.demo.socrata.com/resource/earthquakes.json?$limit=5&$offset=0&$order=earthquake_id\n",
    "places = []\n",
    "offset = 0\n",
    "while(1):\n",
    "    params = {\n",
    "        \"$limit\": 1000,\n",
    "        \"$offset\": offset\n",
    "    }\n",
    "    try:\n",
    "        #print(requests.get(\"https://chronicdata.cdc.gov/resource/k86t-wghb.json\", params = params).json())\n",
    "        tmp = requests.get(\"https://chronicdata.cdc.gov/resource/k86t-wghb.json\", params = params).json()\n",
    "        if(tmp == []):\n",
    "            break\n",
    "        places = places + tmp\n",
    "        offset = offset + 1000\n",
    "    except:\n",
    "        break\n",
    "cdc_places_2019 = pd.concat([pd.DataFrame(places[j], index=[j]) for j in range(len(places))])\n",
    "cdc_places_2019[\"geolocation\"] = cdc_places_2019[\"geolocation\"].apply(lambda x: (string_to_tuple(x)[1], string_to_tuple(x)[0]))\n",
    "#cdc_places_2019[\"geolocation\"] = [(round(lon, 5), round(lat, 5)) for lon, lat in cdc_places_2019[\"geolocation\"]]\n"
   ]
  },
  {
   "cell_type": "code",
   "execution_count": 21,
   "id": "bf31a12e",
   "metadata": {},
   "outputs": [
    {
     "data": {
      "text/plain": [
       "numpy.float64"
      ]
     },
     "execution_count": 21,
     "metadata": {},
     "output_type": "execute_result"
    }
   ],
   "source": [
    "type(cdc_places_2019[\"geolocation\"].iloc[0][0])"
   ]
  },
  {
   "cell_type": "code",
   "execution_count": 13,
   "id": "586ffeb2",
   "metadata": {},
   "outputs": [
    {
     "name": "stdout",
     "output_type": "stream",
     "text": [
      "stateabbr\n",
      "placename\n",
      "placefips\n",
      "tractfips\n",
      "place_tractid\n",
      "population2010\n",
      "access2_crudeprev\n",
      "access2_crude95ci\n",
      "arthritis_crudeprev\n",
      "arthritis_crude95ci\n",
      "binge_crudeprev\n",
      "binge_crude95ci\n",
      "bphigh_crudeprev\n",
      "bphigh_crude95ci\n",
      "bpmed_crudeprev\n",
      "bpmed_crude95ci\n",
      "cancer_crudeprev\n",
      "cancer_crude95ci\n",
      "casthma_crudeprev\n",
      "casthma_crude95ci\n",
      "chd_crudeprev\n",
      "chd_crude95ci\n",
      "checkup_crudeprev\n",
      "checkup_crude95ci\n",
      "cholscreen_crudeprev\n",
      "cholscreen_crude95ci\n",
      "colon_screen_crudeprev\n",
      "colon_screen_crude95ci\n",
      "copd_crudeprev\n",
      "copd_crude95ci\n",
      "corem_crudeprev\n",
      "corem_crude95ci\n",
      "corew_crudeprev\n",
      "corew_crude95ci\n",
      "csmoking_crudeprev\n",
      "csmoking_crude95ci\n",
      "dental_crudeprev\n",
      "dental_crude95ci\n",
      "diabetes_crudeprev\n",
      "diabetes_crude95ci\n",
      "highchol_crudeprev\n",
      "highchol_crude95ci\n",
      "kidney_crudeprev\n",
      "kidney_crude95ci\n",
      "lpa_crudeprev\n",
      "lpa_crude95ci\n",
      "mammouse_crudeprev\n",
      "mammouse_crude95ci\n",
      "mhlth_crudeprev\n",
      "mhlth_crude95ci\n",
      "obesity_crudeprev\n",
      "obesity_crude95ci\n",
      "paptest_crudeprev\n",
      "paptest_crude95ci\n",
      "phlth_crudeprev\n",
      "phlth_crude95ci\n",
      "sleep_crudeprev\n",
      "sleep_crude95ci\n",
      "stroke_crudeprev\n",
      "stroke_crude95ci\n",
      "teethlost_crudeprev\n",
      "teethlost_crude95ci\n",
      "geolocation\n",
      "geometry\n"
     ]
    }
   ],
   "source": [
    "for c in cdc_places_2019.columns:\n",
    "    print(c)"
   ]
  },
  {
   "cell_type": "code",
   "execution_count": 34,
   "id": "da3f75ed",
   "metadata": {},
   "outputs": [],
   "source": [
    "cdc_places_2019 = cdc_places_2019[~cdc_places_2019.stateabbr.isin([\"MP\", \"PR\", \"GU\", \"AS\", \"VI\", \"AK\", \"HI\", \"FM\", \"PW\", \"MH\"])]"
   ]
  },
  {
   "cell_type": "code",
   "execution_count": 36,
   "id": "e0751652",
   "metadata": {},
   "outputs": [
    {
     "data": {
      "text/plain": [
       "26921"
      ]
     },
     "execution_count": 36,
     "metadata": {},
     "output_type": "execute_result"
    }
   ],
   "source": [
    "len(cdc_places_2019)"
   ]
  },
  {
   "cell_type": "code",
   "execution_count": null,
   "id": "f6d93187",
   "metadata": {},
   "outputs": [
    {
     "name": "stderr",
     "output_type": "stream",
     "text": [
      "C:\\Users\\keyasengupta\\anaconda2\\envs\\py38\\lib\\site-packages\\pyproj\\crs\\crs.py:141: FutureWarning: '+init=<authority>:<code>' syntax is deprecated. '<authority>:<code>' is the preferred initialization method. When making the change, be mindful of axis order changes: https://pyproj4.github.io/pyproj/stable/gotchas.html#axis-order-changes-in-proj-6\n",
      "  in_crs_string = _prepare_from_proj_string(in_crs_string)\n",
      "C:\\Users\\keyasengupta\\anaconda2\\envs\\py38\\lib\\site-packages\\pyproj\\crs\\crs.py:141: FutureWarning: '+init=<authority>:<code>' syntax is deprecated. '<authority>:<code>' is the preferred initialization method. When making the change, be mindful of axis order changes: https://pyproj4.github.io/pyproj/stable/gotchas.html#axis-order-changes-in-proj-6\n",
      "  in_crs_string = _prepare_from_proj_string(in_crs_string)\n"
     ]
    }
   ],
   "source": [
    "geom = [Point(x) for x in tri_2019_subset.geocoded]\n",
    "geo_df = gpd.GeoDataFrame(tri_2019_subset, \n",
    "                          crs = {'init':'EPSG:4326'}, \n",
    "                          geometry = geom)\n",
    "\n",
    "fig, ax = plt.subplots(1, figsize=(12, 12))\n",
    "plt.xticks(rotation=90)\n",
    "\n",
    "contiguous_states = us_boundary[~us_boundary['STATE'].isin([\"MP\", \"PR\", \"GU\", \"AS\", \"VI\", \"AK\", \"HI\", \"FM\", \"PW\", \"MH\"])]\n",
    "\n",
    "markersize = (geo_df[\"48. 5.2 - STACK AIR\"] + geo_df[\"47. 5.1 - FUGITIVE AIR\"]) / 2000\n",
    "\n",
    "contiguous_states.to_crs(epsg=4326).plot(ax=ax, edgecolor='lightgrey', facecolor=\"white\", zorder=1)\n",
    "geo_df[\"geometry\"].plot(ax=ax, edgecolor=\"Red\", alpha=0.1, markersize=markersize, facecolor=\"white\", zorder=3)\n",
    "\n",
    "geom = [Point(x) for x in cdc_places_2019.geolocation]\n",
    "geo_df = gpd.GeoDataFrame(cdc_places_2019, \n",
    "                          crs = {'init':'EPSG:4326'}, \n",
    "                          geometry = geom)\n",
    "\n",
    "geo_df.plot(column=\"casthma_crudeprev\", cmap=\"Blues\", ax=ax, zorder=2)\n",
    "\n",
    "bar_info = plt.cm.ScalarMappable(cmap=\"Blues\", norm=plt.Normalize(vmin=0, vmax=100))\n",
    "bar_info._A = []\n",
    "cbar = fig.colorbar(bar_info)\n",
    "# geo_df.plot(column=\"48. 5.2 - STACK AIR\", alpha = 0.2, cmap=\"Purples\", ax=ax)\n",
    "\n",
    "# bar_info = plt.cm.ScalarMappable(cmap=\"Purples\")\n",
    "# bar_info._A = []\n",
    "# cbar = fig.colorbar(bar_info)"
   ]
  }
 ],
 "metadata": {
  "kernelspec": {
   "display_name": "Python 3 (ipykernel)",
   "language": "python",
   "name": "python3"
  },
  "language_info": {
   "codemirror_mode": {
    "name": "ipython",
    "version": 3
   },
   "file_extension": ".py",
   "mimetype": "text/x-python",
   "name": "python",
   "nbconvert_exporter": "python",
   "pygments_lexer": "ipython3",
   "version": "3.8.5"
  }
 },
 "nbformat": 4,
 "nbformat_minor": 5
}
